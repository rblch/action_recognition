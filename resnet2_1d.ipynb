{
  "cells": [
    {
      "cell_type": "code",
      "execution_count": 1,
      "metadata": {
        "colab": {
          "base_uri": "https://localhost:8080/"
        },
        "id": "pwlbB95qy6je",
        "outputId": "6ceac3f7-6c40-41cc-84d8-25f08983eff0"
      },
      "outputs": [
        {
          "name": "stdout",
          "output_type": "stream",
          "text": [
            "Mounted at /content/drive\n"
          ]
        }
      ],
      "source": [
        "from google.colab import drive\n",
        "drive.mount('/content/drive', force_remount=True)\n"
      ]
    },
    {
      "cell_type": "code",
      "execution_count": 5,
      "metadata": {
        "id": "IjEl7Fw61NvG"
      },
      "outputs": [],
      "source": [
        "import os\n",
        "os.chdir('/content')\n"
      ]
    },
    {
      "cell_type": "code",
      "execution_count": 6,
      "metadata": {
        "id": "zCcW69b61a6n"
      },
      "outputs": [],
      "source": [
        "import requests\n",
        "import os\n",
        "import zipfile\n",
        "from tqdm import tqdm\n",
        "\n",
        "def download_file(url, filename):\n",
        "    \"\"\"\n",
        "    Downloads a file from a URL to the specified filename with a progress bar.\n",
        "\n",
        "    Args:\n",
        "        url (str): URL of the file to download\n",
        "        filename (str): Local path where the file should be saved\n",
        "\n",
        "    Returns:\n",
        "        bool: True if download successful, False otherwise\n",
        "    \"\"\"\n",
        "    # Check if file already exists\n",
        "    if os.path.exists(filename):\n",
        "        print(f\"File {filename} already exists. Skipping download.\")\n",
        "        return True\n",
        "\n",
        "    try:\n",
        "        # Note: Consider enabling SSL verification in production environments\n",
        "        response = requests.get(url, stream=True, verify=False)\n",
        "        response.raise_for_status()  # Raise an exception for HTTP errors\n",
        "\n",
        "        total_size_in_bytes = int(response.headers.get('content-length', 0))\n",
        "        block_size = 1024  # 1 Kibibyte\n",
        "        progress_bar = tqdm(total=total_size_in_bytes, unit='iB', unit_scale=True)\n",
        "\n",
        "        with open(filename, 'wb') as file:\n",
        "            for data in response.iter_content(block_size):\n",
        "                progress_bar.update(len(data))\n",
        "                file.write(data)\n",
        "\n",
        "        progress_bar.close()\n",
        "\n",
        "        if total_size_in_bytes != 0 and progress_bar.n != total_size_in_bytes:\n",
        "            print(\"ERROR: Download incomplete. File may be corrupted.\")\n",
        "            return False\n",
        "\n",
        "        return True\n",
        "    except requests.exceptions.RequestException as e:\n",
        "        print(f\"ERROR: Download failed: {e}\")\n",
        "        return False\n",
        "\n",
        "def extract_zip(zip_path, extract_path):\n",
        "    \"\"\"\n",
        "    Extracts a zip file to the specified path.\n",
        "\n",
        "    Args:\n",
        "        zip_path (str): Path to the zip file\n",
        "        extract_path (str): Path where contents should be extracted\n",
        "\n",
        "    Returns:\n",
        "        bool: True if extraction successful, False otherwise\n",
        "    \"\"\"\n",
        "    try:\n",
        "        with zipfile.ZipFile(zip_path, 'r') as zip_ref:\n",
        "            zip_ref.extractall(extract_path)\n",
        "        return True\n",
        "    except zipfile.BadZipFile:\n",
        "        print(f\"ERROR: {zip_path} is not a valid zip file.\")\n",
        "        return False\n",
        "    except Exception as e:\n",
        "        print(f\"ERROR: Failed to extract zip file: {e}\")\n",
        "        return False\n",
        "\n",
        "def prepare_dataset(dataset_url, download_path, extract_path):\n",
        "    \"\"\"\n",
        "    Downloads and extracts the dataset if not already present.\n",
        "\n",
        "    Args:\n",
        "        dataset_url (str): URL to download the dataset from\n",
        "        download_path (str): Path where the dataset will be downloaded\n",
        "        extract_path (str): Path where the dataset will be extracted\n",
        "\n",
        "    Returns:\n",
        "        bool: True if dataset is ready for use, False otherwise\n",
        "    \"\"\"\n",
        "    # Ensure directories exist\n",
        "    os.makedirs(os.path.dirname(download_path), exist_ok=True)\n",
        "\n",
        "    # Download the dataset\n",
        "    if not os.path.exists(download_path):\n",
        "        print(f\"Downloading dataset from {dataset_url}...\")\n",
        "        if not download_file(dataset_url, download_path):\n",
        "            return False\n",
        "        print(f\"Dataset downloaded to: {download_path}\")\n",
        "\n",
        "    # Extract the dataset\n",
        "    if not os.path.exists(extract_path):\n",
        "        print(f\"Extracting dataset to {extract_path}...\")\n",
        "        if not extract_zip(download_path, os.path.dirname(extract_path)):\n",
        "            return False\n",
        "        print(\"Extraction complete.\")\n",
        "    else:\n",
        "        print(\"Dataset already extracted. Skipping extraction.\")\n",
        "\n",
        "    return True"
      ]
    },
    {
      "cell_type": "code",
      "execution_count": 7,
      "metadata": {
        "colab": {
          "base_uri": "https://localhost:8080/"
        },
        "id": "9wk0Xxcq1dJU",
        "outputId": "f63518be-8428-4cf7-e9db-921466a4b19a"
      },
      "outputs": [
        {
          "name": "stdout",
          "output_type": "stream",
          "text": [
            "Dataset already extracted. Skipping extraction.\n",
            "Dataset is ready for use!\n"
          ]
        }
      ],
      "source": [
        "\n",
        "# Download and prepare the TinyVIRAT-v2 dataset\n",
        "DATASET_URL = 'https://www.crcv.ucf.edu/tiny-actions-challenge-cvpr2021/data/TinyVIRAT-v2.zip'\n",
        "DOWNLOAD_PATH = '/content/datasets/TinyVIRAT-v2.zip'\n",
        "EXTRACT_PATH = '/content/datasets/TinyVIRAT_V2'\n",
        "\n",
        "# Execute the dataset preparation\n",
        "dataset_ready = prepare_dataset(DATASET_URL, DOWNLOAD_PATH, EXTRACT_PATH)\n",
        "\n",
        "if dataset_ready:\n",
        "    print(\"Dataset is ready for use!\")\n",
        "else:\n",
        "    print(\"Failed to prepare dataset. Please check the errors above.\")"
      ]
    },
    {
      "cell_type": "code",
      "execution_count": 8,
      "metadata": {
        "collapsed": true,
        "id": "PQEgcl1RzD3H"
      },
      "outputs": [],
      "source": [
        "!pip install torch torchvision torchaudio tqdm transformers opencv-python decord pytorchvideo scikit-learn tensorboard --quiet\n"
      ]
    },
    {
      "cell_type": "code",
      "execution_count": 47,
      "metadata": {
        "colab": {
          "base_uri": "https://localhost:8080/"
        },
        "id": "S9dICc1fQ3Fu",
        "outputId": "05884aa0-2f2e-4282-9765-b7dc691ab088"
      },
      "outputs": [
        {
          "name": "stdout",
          "output_type": "stream",
          "text": [
            "Text logs configured to be saved to: outputs/R2plus1D_Torchvision_Run3_log.txt\n"
          ]
        }
      ],
      "source": [
        "from train import main\n",
        "# main() # uncomment for training"
      ]
    },
    {
      "cell_type": "markdown",
      "metadata": {
        "id": "3UuYRFo5y2Tg"
      },
      "source": [
        "# EVALUATION"
      ]
    },
    {
      "cell_type": "markdown",
      "metadata": {
        "id": "ORFpbp5_GRrH"
      },
      "source": [
        "### Model Loading"
      ]
    },
    {
      "cell_type": "code",
      "execution_count": 11,
      "metadata": {
        "colab": {
          "base_uri": "https://localhost:8080/"
        },
        "id": "chELGeGAsJ0M",
        "outputId": "b904f852-79ac-4d0f-c48c-fc50dad2f26d"
      },
      "outputs": [
        {
          "name": "stdout",
          "output_type": "stream",
          "text": [
            "Generating model structure for inference (pretrained weights will be loaded from checkpoint)...\n",
            "Generating torchvision model: r2plus1d_18\n",
            "Loading model with random weights.\n",
            "Original classifier input features: 512\n",
            "Replaced final classifier (fc) with 512 input features and 9 output classes (from config.py).\n",
            "Loading trained weights from checkpoint: /content/drive/MyDrive/SurveillanceActionRecognition/outputs/R2plus1D_Torchvision_Run3/best_model.pth\n",
            "Trained model loaded successfully for inference.\n",
            "Model and class map loaded.\n"
          ]
        }
      ],
      "source": [
        "import torch\n",
        "import sys\n",
        "sys.path.append('.')\n",
        "import config as cfg\n",
        "from inference import load_inference_model, load_class_map, preprocess_video\n",
        "\n",
        "device = torch.device('cuda' if torch.cuda.is_available() else 'cpu')\n",
        "model = load_inference_model('/content/drive/MyDrive/SurveillanceActionRecognition/outputs/R2plus1D_Torchvision_Run3/best_model.pth', device)\n",
        "class_map = load_class_map()\n",
        "print('Model and class map loaded.')"
      ]
    },
    {
      "cell_type": "markdown",
      "metadata": {
        "id": "PPWcqpqAGWdZ"
      },
      "source": [
        "## Check model size"
      ]
    },
    {
      "cell_type": "code",
      "execution_count": null,
      "metadata": {
        "colab": {
          "base_uri": "https://localhost:8080/"
        },
        "id": "wsgkAN95zhDe",
        "outputId": "8ad0b250-2592-4fac-f22d-9a1fb7cf9e55"
      },
      "outputs": [
        {
          "name": "stdout",
          "output_type": "stream",
          "text": [
            "Model file size: 358.52 MB\n",
            "✅ Model size requirement met.\n"
          ]
        }
      ],
      "source": [
        "model_path = '/content/drive/MyDrive/SurveillanceActionRecognition/outputs/R2plus1D_Torchvision_Run3/best_model.pth'\n",
        "assert os.path.exists(model_path), f\"Model file not found: {model_path}\"\n",
        "model_size_mb = os.path.getsize(model_path) / (1024 * 1024)\n",
        "print(f\"Model file size: {model_size_mb:.2f} MB\")\n",
        "if model_size_mb <= 500:\n",
        "    print('✅ Model size requirement met.')\n",
        "else:\n",
        "    print('❌ Model size exceeds 500 MB!')"
      ]
    },
    {
      "cell_type": "code",
      "execution_count": 43,
      "metadata": {
        "id": "7ai6_Uzvy-HW"
      },
      "outputs": [],
      "source": []
    },
    {
      "cell_type": "code",
      "execution_count": null,
      "metadata": {
        "id": "oOnzy8PS7nvD"
      },
      "outputs": [],
      "source": [
        "import torch\n",
        "import torchvision.transforms.v2 as transforms\n",
        "from decord import VideoReader, cpu, DECORDError\n",
        "import numpy as np\n",
        "import os\n",
        "import traceback \n",
        "\n",
        "def preprocess_clip_decord(video_path, clip_length, input_size, norm_mean, norm_std, device):\n",
        "    try:\n",
        "        vr = VideoReader(video_path, ctx=cpu(0), num_threads=1)\n",
        "        total_frames = len(vr)\n",
        "\n",
        "        if total_frames < clip_length:\n",
        "            del vr\n",
        "            return None\n",
        "\n",
        "        start_index = max(0, (total_frames - clip_length) // 2)\n",
        "        frame_indices = list(range(start_index, start_index + clip_length))\n",
        "        frame_indices = [min(idx, total_frames - 1) for idx in frame_indices]\n",
        "\n",
        "        frames_np = vr.get_batch(frame_indices).asnumpy()\n",
        "        del vr \n",
        "\n",
        "        if frames_np.shape[0] != clip_length:\n",
        "             print(f\"  ERROR: Frame count mismatch for {os.path.basename(video_path)}. Read {frames_np.shape[0]}, expected {clip_length}.\")\n",
        "             return None\n",
        "\n",
        "        frames_tensor = torch.from_numpy(frames_np)\n",
        "\n",
        "        transform = transforms.Compose([\n",
        "            transforms.Lambda(lambda x: x.permute(0, 3, 1, 2)), # T,H,W,C -> T,C,H,W\n",
        "            transforms.ConvertImageDtype(torch.float32),\n",
        "            transforms.Resize((input_size, input_size), antialias=True),\n",
        "            transforms.Normalize(mean=norm_mean, std=norm_std),\n",
        "            transforms.Lambda(lambda x: x.permute(1, 0, 2, 3)) # T,C,H,W -> C,T,H,W\n",
        "        ])\n",
        "        processed_tensor = transform(frames_tensor)\n",
        "\n",
        "        final_tensor = processed_tensor.unsqueeze(0).to(device)\n",
        "\n",
        "        return final_tensor\n",
        "\n",
        "    except DECORDError as e:\n",
        "        print(f\"  ERROR: DECORDError processing {os.path.basename(video_path)}: {e}\")\n",
        "        return None\n",
        "    except Exception as e:\n",
        "        print(f\"  ERROR: Exception during decord preprocessing for {os.path.basename(video_path)}:\")\n",
        "        traceback.print_exc()\n",
        "        return None"
      ]
    },
    {
      "cell_type": "code",
      "execution_count": null,
      "metadata": {
        "colab": {
          "base_uri": "https://localhost:8080/"
        },
        "id": "e3aGdGx10JWn",
        "outputId": "f953bdde-c3fa-403b-b9f3-d3949d9cfd74"
      },
      "outputs": [
        {
          "name": "stdout",
          "output_type": "stream",
          "text": [
            "Randomly selected 10 videos for evaluation:\n",
            "------------------------------\n",
            "Video: caviar_ShopAssistant1front.mp4\n",
            "  - Size: 894.67 KB\n",
            "  - Resolution: 384x288\n",
            "  - Frame Rate: 25.00 FPS\n",
            "  - Length: 67.04 s (1676 frames)\n",
            "------------------------------\n",
            "Video: ucaerial_actions3_Walking_2_11.mp4\n",
            "  - Size: 49.99 KB\n",
            "  - Resolution: 634x596\n",
            "  - Frame Rate: 23.00 FPS\n",
            "  - Length: 0.26 s (6 frames)\n",
            "------------------------------\n",
            "Video: ucaerial_actions3_Walking_2_1.mp4\n",
            "  - Size: 113.99 KB\n",
            "  - Resolution: 634x596\n",
            "  - Frame Rate: 23.00 FPS\n",
            "  - Length: 0.70 s (16 frames)\n",
            "------------------------------\n",
            "Video: caviar_ShopAssistant2front.mp4\n",
            "  - Size: 2.18 MB\n",
            "  - Resolution: 384x288\n",
            "  - Frame Rate: 25.00 FPS\n",
            "  - Length: 148.04 s (3701 frames)\n",
            "------------------------------\n",
            "Video: caviar_OneStopNoEnter1cor.mp4\n",
            "  - Size: 400.17 KB\n",
            "  - Resolution: 384x288\n",
            "  - Frame Rate: 25.00 FPS\n",
            "  - Length: 29.04 s (726 frames)\n",
            "------------------------------\n",
            "Video: caviar_OneStopMoveNoEnter1cor.mp4\n",
            "  - Size: 790.54 KB\n",
            "  - Resolution: 384x288\n",
            "  - Frame Rate: 25.00 FPS\n",
            "  - Length: 66.64 s (1666 frames)\n",
            "------------------------------\n",
            "Video: caviar_TwoEnterShop1cor.mp4\n",
            "  - Size: 1.08 MB\n",
            "  - Resolution: 384x288\n",
            "  - Frame Rate: 25.00 FPS\n",
            "  - Length: 65.84 s (1646 frames)\n",
            "------------------------------\n",
            "Video: caviar_OneStopMoveNoEnter1front.mp4\n",
            "  - Size: 766.54 KB\n",
            "  - Resolution: 384x288\n",
            "  - Frame Rate: 25.00 FPS\n",
            "  - Length: 66.64 s (1666 frames)\n",
            "------------------------------\n",
            "Video: caviar_OneStopMoveEnter2front.mp4\n",
            "  - Size: 1.04 MB\n",
            "  - Resolution: 384x288\n",
            "  - Frame Rate: 25.00 FPS\n",
            "  - Length: 89.52 s (2238 frames)\n",
            "------------------------------\n",
            "Video: ucaerial_actions3_Walking_2_4.mp4\n",
            "  - Size: 461.52 KB\n",
            "  - Resolution: 634x596\n",
            "  - Frame Rate: 23.00 FPS\n",
            "  - Length: 3.52 s (81 frames)\n",
            "------------------------------\n"
          ]
        }
      ],
      "source": [
        "# select 10 random samples and show size, length, FPS, etc\n",
        "\n",
        "import glob\n",
        "import random\n",
        "import os   \n",
        "import cv2  \n",
        "import numpy as np \n",
        "\n",
        "def format_size(size_bytes):\n",
        "    if size_bytes == 0:\n",
        "       return \"0 B\"\n",
        "    size_name = (\"B\", \"KB\", \"MB\", \"GB\", \"TB\", \"PB\", \"EB\", \"ZB\", \"YB\")\n",
        "    i = int(np.floor(np.log(size_bytes) / np.log(1024)))\n",
        "    p = np.power(1024, i)\n",
        "    s = round(size_bytes / p, 2)\n",
        "    return f\"{s} {size_name[i]}\"\n",
        "\n",
        "test_videos_dir = '/content/datasets/large_videos_2' \n",
        "video_files_all = sorted(glob.glob(os.path.join(test_videos_dir, '*.mp4')))\n",
        "assert len(video_files_all) >= 20, f\"Not enough .mp4 videos found in {test_videos_dir} (found {len(video_files_all)})\"\n",
        "video_files = random.sample(video_files_all, 10)\n",
        "print(f\"Randomly selected {len(video_files)} videos for evaluation:\")\n",
        "print(\"-\" * 30)\n",
        "\n",
        "for video_path in video_files:\n",
        "    print(f\"Video: {os.path.basename(video_path)}\") \n",
        "\n",
        "    try:\n",
        "        file_size_bytes = os.path.getsize(video_path)\n",
        "        print(f\"  - Size: {format_size(file_size_bytes)}\")\n",
        "\n",
        "        cap = cv2.VideoCapture(video_path)\n",
        "        if not cap.isOpened():\n",
        "            print(\"  - Error: Could not open video file with OpenCV.\")\n",
        "            print(\"-\" * 30)\n",
        "            continue \n",
        "\n",
        "        width = int(cap.get(cv2.CAP_PROP_FRAME_WIDTH))\n",
        "        height = int(cap.get(cv2.CAP_PROP_FRAME_HEIGHT))\n",
        "        fps = cap.get(cv2.CAP_PROP_FPS)\n",
        "        frame_count = int(cap.get(cv2.CAP_PROP_FRAME_COUNT))\n",
        "\n",
        "        duration_sec = 0.0\n",
        "        duration_str = \"N/A\"\n",
        "        if fps and fps > 0 and frame_count and frame_count >= 0:\n",
        "            duration_sec = frame_count / fps\n",
        "            duration_str = f\"{duration_sec:.2f} s\"\n",
        "        elif frame_count == 0:\n",
        "             duration_str = \"0.00 s (0 frames)\"\n",
        "\n",
        "        fps_str = f\"{fps:.2f}\" if fps and fps > 0 else \"N/A\"\n",
        "\n",
        "        print(f\"  - Resolution: {width}x{height}\")\n",
        "        print(f\"  - Frame Rate: {fps_str} FPS\")\n",
        "        print(f\"  - Length: {duration_str} ({frame_count} frames)\")\n",
        "\n",
        "        cap.release() \n",
        "\n",
        "    except FileNotFoundError:\n",
        "        print(f\"  - Error: File not found at {video_path}\")\n",
        "    except Exception as e:\n",
        "        print(f\"  - An unexpected error occurred: {e}\")\n",
        "        if 'cap' in locals() and cap.isOpened():\n",
        "            cap.release()\n",
        "\n",
        "    print(\"-\" * 30) "
      ]
    },
    {
      "cell_type": "code",
      "execution_count": null,
      "metadata": {
        "colab": {
          "base_uri": "https://localhost:8080/"
        },
        "id": "q4I3M1qx0Nj2",
        "outputId": "9b7efb76-2468-4236-ab05-731ae9882868"
      },
      "outputs": [
        {
          "name": "stdout",
          "output_type": "stream",
          "text": [
            "\n",
            "--- Starting Granular Latency Evaluation (using decord) on 10 videos from CELL1 ---\n",
            "\n",
            "Evaluating: caviar_ShopAssistant1front.mp4\n",
            "  Avg Prep+H2D: 59.99 ms | Avg Inference: 9.41 ms | Avg Total: 69.41 ms\n",
            "\n",
            "Evaluating: ucaerial_actions3_Walking_2_11.mp4\n",
            "  Warning: Preprocessing returned None during warmup 1 for ucaerial_actions3_Walking_2_11.mp4. Skipping video.\n",
            "  Skipped or error during evaluation.\n",
            "\n",
            "Evaluating: ucaerial_actions3_Walking_2_1.mp4\n",
            "  Avg Prep+H2D: 94.02 ms | Avg Inference: 9.43 ms | Avg Total: 103.47 ms\n",
            "\n",
            "Evaluating: caviar_ShopAssistant2front.mp4\n",
            "  Avg Prep+H2D: 72.33 ms | Avg Inference: 9.40 ms | Avg Total: 81.74 ms\n",
            "\n",
            "Evaluating: caviar_OneStopNoEnter1cor.mp4\n",
            "  Avg Prep+H2D: 70.81 ms | Avg Inference: 9.43 ms | Avg Total: 80.26 ms\n",
            "\n",
            "Evaluating: caviar_OneStopMoveNoEnter1cor.mp4\n",
            "  Avg Prep+H2D: 61.57 ms | Avg Inference: 9.42 ms | Avg Total: 71.00 ms\n",
            "\n",
            "Evaluating: caviar_TwoEnterShop1cor.mp4\n",
            "  Avg Prep+H2D: 58.34 ms | Avg Inference: 9.43 ms | Avg Total: 67.78 ms\n",
            "\n",
            "Evaluating: caviar_OneStopMoveNoEnter1front.mp4\n",
            "  Avg Prep+H2D: 59.48 ms | Avg Inference: 9.47 ms | Avg Total: 68.96 ms\n",
            "\n",
            "Evaluating: caviar_OneStopMoveEnter2front.mp4\n",
            "  Avg Prep+H2D: 69.44 ms | Avg Inference: 9.39 ms | Avg Total: 78.84 ms\n",
            "\n",
            "Evaluating: ucaerial_actions3_Walking_2_4.mp4\n",
            "  Avg Prep+H2D: 195.52 ms | Avg Inference: 9.44 ms | Avg Total: 204.97 ms\n",
            "\n",
            "=== Average Latency Across 9 Videos ===\n",
            "Mean Prep+H2D Time:      82.39 ms\n",
            "Mean Inference Time:     9.42 ms\n",
            "------------------------------------\n",
            "Mean Total Clip Time:    91.83 ms\n",
            "Median Total Clip Time:  78.84 ms\n",
            "\n",
            "Clip Processing Rate (based on Mean Total Time): 10.89 Clips/Second\n",
            "Effective Real-time FPS (@ Stride=1): 10.89 FPS\n",
            "(This is the max input video FPS the system can handle with a stride of 1 frames)\n"
          ]
        }
      ],
      "source": [
        "\n",
        "import gc\n",
        "import time\n",
        "import os \n",
        "import numpy as np\n",
        "import torch\n",
        "from decord import VideoReader, cpu, DECORDError\n",
        "import torchvision.transforms.v2 as transforms\n",
        "from functools import partial\n",
        "import traceback \n",
        "\n",
        "NUM_REPEATS_PER_VIDEO = 10  \n",
        "WARMUP_RUNS = 3             \n",
        "STRIDE = 1                  \n",
        "\n",
        "CLIP_LENGTH = 16       \n",
        "INPUT_SIZE = 112    \n",
        "NORMALIZATION_MEAN = [0.485, 0.456, 0.406]\n",
        "NORMALIZATION_STD = [0.229, 0.224, 0.225]\n",
        "\n",
        "\n",
        "def preprocess_clip_decord(video_path, clip_length, input_size, norm_mean, norm_std, device):\n",
        "    try:\n",
        "        vr = VideoReader(video_path, ctx=cpu(0), num_threads=1)\n",
        "        total_frames = len(vr)\n",
        "\n",
        "        if total_frames < clip_length:\n",
        "            del vr\n",
        "            return None\n",
        "\n",
        "        start_index = max(0, (total_frames - clip_length) // 2)\n",
        "        frame_indices = list(range(start_index, start_index + clip_length))\n",
        "        frame_indices = [min(idx, total_frames - 1) for idx in frame_indices]\n",
        "\n",
        "        frames_np = vr.get_batch(frame_indices).asnumpy()\n",
        "        del vr\n",
        "\n",
        "        if frames_np.shape[0] != clip_length:\n",
        "             print(f\"  ERROR: Frame count mismatch for {os.path.basename(video_path)}. Read {frames_np.shape[0]}, expected {clip_length}.\")\n",
        "             return None \n",
        "\n",
        "        frames_tensor = torch.from_numpy(frames_np)\n",
        "\n",
        "        transform = transforms.Compose([\n",
        "            transforms.Lambda(lambda x: x.permute(0, 3, 1, 2)), # T,H,W,C -> T,C,H,W\n",
        "            transforms.ConvertImageDtype(torch.float32),\n",
        "            transforms.Resize((input_size, input_size), antialias=True),\n",
        "            transforms.Normalize(mean=norm_mean, std=norm_std),\n",
        "            transforms.Lambda(lambda x: x.permute(1, 0, 2, 3)) # T,C,H,W -> C,T,H,W\n",
        "        ])\n",
        "        processed_tensor = transform(frames_tensor)\n",
        "\n",
        "        final_tensor = processed_tensor.unsqueeze(0).to(device)\n",
        "        return final_tensor\n",
        "\n",
        "    except DECORDError as e:\n",
        "        print(f\"  ERROR: DECORDError processing {os.path.basename(video_path)}: {e}\")\n",
        "        return None\n",
        "    except Exception as e:\n",
        "        print(f\"  ERROR: Exception during decord preprocessing for {os.path.basename(video_path)}:\")\n",
        "        traceback.print_exc() \n",
        "        return None\n",
        "\n",
        "def measure_granular_latency(model, preprocess_fn, video_path, device, num_repeats=NUM_REPEATS_PER_VIDEO, warmup_runs=WARMUP_RUNS):\n",
        "    model.eval()\n",
        "    if torch.cuda.is_available(): torch.cuda.empty_cache() \n",
        "    gc.collect()\n",
        "    # --- Warmup Phase ---\n",
        "    try:\n",
        "        for i in range(warmup_runs):\n",
        "            input_tensor = preprocess_fn(video_path) \n",
        "            if input_tensor is None:\n",
        "                 print(f\"  Warning: Preprocessing returned None during warmup {i+1} for {os.path.basename(video_path)}. Skipping video.\")\n",
        "                 return None, None, None \n",
        "            with torch.no_grad():\n",
        "                 _ = model(input_tensor)\n",
        "        if torch.cuda.is_available(): torch.cuda.synchronize() \n",
        "    except Exception as e:\n",
        "        print(f\"  Error during warmup for {os.path.basename(video_path)}: {e}\")\n",
        "        traceback.print_exc()\n",
        "        return None, None, None\n",
        "    # --- Timed Measurement Phase ---\n",
        "    prep_h2d_times, inf_times, total_times = [], [], []\n",
        "    try:\n",
        "        for i in range(num_repeats):\n",
        "            if torch.cuda.is_available(): torch.cuda.synchronize()\n",
        "            start_total = time.perf_counter()\n",
        "\n",
        "            # --- 1. Preprocessing + H2D Transfer (timed together) ---\n",
        "            if torch.cuda.is_available(): torch.cuda.synchronize()\n",
        "            start_prep_h2d = time.perf_counter()\n",
        "            input_tensor = preprocess_fn(video_path) # Call the wrapped preprocessor\n",
        "            if torch.cuda.is_available(): torch.cuda.synchronize()\n",
        "            end_prep_h2d = time.perf_counter()\n",
        "\n",
        "            if input_tensor is None:\n",
        "                 print(f\"  Warning: Preprocessing returned None during measurement repeat {i+1} for {os.path.basename(video_path)}. Skipping repeat.\")\n",
        "                 continue # Skip this failed repeat\n",
        "\n",
        "            prep_h2d_times.append(end_prep_h2d - start_prep_h2d)\n",
        "\n",
        "            # --- 2. Inference ---\n",
        "            start_inf = time.perf_counter()\n",
        "            with torch.no_grad():\n",
        "                _ = model(input_tensor)\n",
        "            if torch.cuda.is_available(): torch.cuda.synchronize()\n",
        "            end_inf = time.perf_counter()\n",
        "            inf_times.append(end_inf - start_inf)\n",
        "\n",
        "            # --- Total Time End ---\n",
        "            end_total = time.perf_counter()\n",
        "            total_times.append(end_total - start_total)\n",
        "\n",
        "        if not total_times or not prep_h2d_times or not inf_times: # Check if any list is empty\n",
        "             print(f\"  Warning: No successful measurements recorded (Preprocessing failures?) for {os.path.basename(video_path)}.\")\n",
        "             return None, None, None\n",
        "\n",
        "        # Calculate Averages\n",
        "        avg_prep_h2d = np.mean(prep_h2d_times)\n",
        "        avg_inf = np.mean(inf_times)\n",
        "        avg_total = np.mean(total_times) # Use the separately timed total for consistency\n",
        "\n",
        "        # Return average times in seconds\n",
        "        return avg_prep_h2d, avg_inf, avg_total\n",
        "\n",
        "    except Exception as e:\n",
        "        print(f\"  Error during timed measurement for {os.path.basename(video_path)}: {e}\")\n",
        "        traceback.print_exc()\n",
        "        return None, None, None\n",
        "\n",
        "# --- Main Execution ---\n",
        "\n",
        "\n",
        "if 'video_files' in locals() and isinstance(video_files, list) and video_files:\n",
        "    preprocessor = partial(preprocess_clip_decord,\n",
        "                           clip_length=CLIP_LENGTH,\n",
        "                           input_size=INPUT_SIZE,\n",
        "                           norm_mean=NORMALIZATION_MEAN,\n",
        "                           norm_std=NORMALIZATION_STD,\n",
        "                           device=device)\n",
        "\n",
        "    print(f\"\\n--- Starting Granular Latency Evaluation (using decord) on {len(video_files)} videos from CELL1 ---\")\n",
        "    results = []\n",
        "    for video_path in video_files:\n",
        "        print(f\"\\nEvaluating: {os.path.basename(video_path)}\")\n",
        "        avg_prep_h2d_s, avg_inf_s, avg_total_s = measure_granular_latency(\n",
        "            model=model,\n",
        "            preprocess_fn=preprocessor,\n",
        "            video_path=video_path,\n",
        "            device=device, \n",
        "            num_repeats=NUM_REPEATS_PER_VIDEO,\n",
        "            warmup_runs=WARMUP_RUNS\n",
        "        )\n",
        "\n",
        "        if avg_total_s is not None:\n",
        "            print(f\"  Avg Prep+H2D: {avg_prep_h2d_s*1000:.2f} ms | Avg Inference: {avg_inf_s*1000:.2f} ms | Avg Total: {avg_total_s*1000:.2f} ms\")\n",
        "            results.append({\n",
        "                'video': os.path.basename(video_path),\n",
        "                'prep_h2d_ms': avg_prep_h2d_s*1000,\n",
        "                'inf_ms': avg_inf_s*1000,\n",
        "                'total_ms': avg_total_s*1000\n",
        "            })\n",
        "        else:\n",
        "            print(f\"  Skipped or error during evaluation.\")\n",
        "\n",
        "    # --- Final Summary ---\n",
        "    if results:\n",
        "        # Calculate statistics\n",
        "        mean_prep_h2d = np.mean([r['prep_h2d_ms'] for r in results])\n",
        "        mean_inf = np.mean([r['inf_ms'] for r in results])\n",
        "        mean_total_ms = np.mean([r['total_ms'] for r in results])\n",
        "        median_total_ms = np.median([r['total_ms'] for r in results])\n",
        "        mean_total_s = mean_total_ms / 1000.0 # Convert mean total time to seconds\n",
        "\n",
        "        # Print summary table\n",
        "        print(f\"\\n=== Average Latency Across {len(results)} Videos ===\")\n",
        "        print(f\"Mean Prep+H2D Time:      {mean_prep_h2d:.2f} ms\")\n",
        "        print(f\"Mean Inference Time:     {mean_inf:.2f} ms\")\n",
        "        print(f\"------------------------------------\")\n",
        "        print(f\"Mean Total Clip Time:    {mean_total_ms:.2f} ms\")\n",
        "        print(f\"Median Total Clip Time:  {median_total_ms:.2f} ms\")\n",
        "\n",
        "        # Print FPS results\n",
        "        clip_fps = 1.0 / mean_total_s if mean_total_s > 0 else 0\n",
        "        print(f\"\\nClip Processing Rate (based on Mean Total Time): {clip_fps:.2f} Clips/Second\")\n",
        "\n",
        "        effective_realtime_fps = STRIDE / mean_total_s if mean_total_s > 0 else 0\n",
        "        print(f\"Effective Real-time FPS (@ Stride={STRIDE}): {effective_realtime_fps:.2f} FPS\")\n",
        "        print(f\"(This is the max input video FPS the system can handle with a stride of {STRIDE} frames)\")\n",
        "\n",
        "    else:\n",
        "        print(\"\\nNo successful evaluations completed.\")\n",
        "\n",
        "else:\n",
        "    print(\"Error: 'video_files' list not found. Please ensure CELL1 has been run successfully.\")"
      ]
    },
    {
      "cell_type": "code",
      "execution_count": null,
      "metadata": {
        "colab": {
          "base_uri": "https://localhost:8080/",
          "height": 1000
        },
        "id": "CJTIaI7O0QQy",
        "outputId": "956cc3fe-04bc-420b-fb02-00a7626d1793"
      },
      "outputs": [
        {
          "name": "stdout",
          "output_type": "stream",
          "text": [
            "\n",
            "Generating Stacked Bar Chart...\n"
          ]
        },
        {
          "data": {
            "image/png": "[encoded data removed]",
            "text/plain": [
              "<Figure size 1200x600 with 1 Axes>"
            ]
          },
          "metadata": {},
          "output_type": "display_data"
        },
        {
          "name": "stdout",
          "output_type": "stream",
          "text": [
            "\n",
            "Generating Box Plot...\n"
          ]
        },
        {
          "name": "stderr",
          "output_type": "stream",
          "text": [
            "<ipython-input-46-b3a35db2a85b>:51: MatplotlibDeprecationWarning: The 'labels' parameter of boxplot() has been renamed 'tick_labels' since Matplotlib 3.9; support for the old name will be dropped in 3.11.\n",
            "  bp = ax2.boxplot(data_to_plot.values, labels=data_to_plot.columns, patch_artist=True, notch=False)\n"
          ]
        },
        {
          "data": {
            "image/png": "[encoded data removed]",
            "text/plain": [
              "<Figure size 800x600 with 1 Axes>"
            ]
          },
          "metadata": {},
          "output_type": "display_data"
        }
      ],
      "source": [
        "import pandas as pd\n",
        "import matplotlib.pyplot as plt\n",
        "\n",
        "if 'results' not in locals() or not isinstance(results, list) or not results:\n",
        "    print(\"Error: 'results' list not found or empty. Please run CELL2 successfully first.\")\n",
        "else:\n",
        "\n",
        "    df = pd.DataFrame(results)\n",
        "\n",
        "    print(\"\\nGenerating Stacked Bar Chart...\")\n",
        "    fig1, ax1 = plt.subplots(figsize=(12, 6)) \n",
        "\n",
        "    video_indices = np.arange(len(df))\n",
        "\n",
        "    ax1.bar(video_indices, df['prep_h2d_ms'], label='Prep+H2D Time', color='skyblue')\n",
        "    ax1.bar(video_indices, df['inf_ms'], bottom=df['prep_h2d_ms'], label='Inference Time', color='lightcoral')\n",
        "\n",
        "    ax1.set_xlabel('Test Video Index')\n",
        "    ax1.set_ylabel('Latency (ms)')\n",
        "    ax1.set_title('End-to-End Latency Breakdown per Video')\n",
        "    ax1.set_xticks(video_indices)\n",
        "    ax1.legend()\n",
        "    ax1.grid(axis='y', linestyle='--', alpha=0.7)\n",
        "    plt.tight_layout() \n",
        "    plt.show()\n",
        "\n",
        "    print(\"\\nGenerating Box Plot...\")\n",
        "    fig2, ax2 = plt.subplots(figsize=(8, 6))\n",
        "\n",
        "    data_to_plot = df[['prep_h2d_ms', 'inf_ms', 'total_ms']]\n",
        "\n",
        "    bp = ax2.boxplot(data_to_plot.values, labels=data_to_plot.columns, patch_artist=True, notch=False)\n",
        "\n",
        "    colors = ['skyblue', 'lightcoral', 'lightgrey']\n",
        "    for patch, color in zip(bp['boxes'], colors):\n",
        "        patch.set_facecolor(color)\n",
        "\n",
        "    ax2.set_ylabel('Latency (ms)')\n",
        "    ax2.set_title('Distribution of Latency Components Across Videos')\n",
        "    ax2.grid(axis='y', linestyle='--', alpha=0.7)\n",
        "    plt.tight_layout()\n",
        "    plt.show()"
      ]
    },
    {
      "cell_type": "markdown",
      "metadata": {
        "id": "AoV41yTmGhZJ"
      },
      "source": [
        "## Evaluate GPU VRAM Usage"
      ]
    },
    {
      "cell_type": "code",
      "execution_count": 44,
      "metadata": {
        "colab": {
          "base_uri": "https://localhost:8080/"
        },
        "id": "tz0H-LnPCqnN",
        "outputId": "f4cf3e7d-7f8a-4028-87fb-2eeea6f24f97"
      },
      "outputs": [
        {
          "name": "stdout",
          "output_type": "stream",
          "text": [
            "Measuring GPU memory for: caviar_ShopAssistant2cor.mp4\n",
            "  Peak GPU memory: 0.24 GB\n",
            "Measuring GPU memory for: caviar_TwoEnterShop1cor.mp4\n",
            "  Peak GPU memory: 0.24 GB\n",
            "Measuring GPU memory for: caviar_OneStopNoEnter2front.mp4\n",
            "  Peak GPU memory: 0.24 GB\n",
            "Measuring GPU memory for: ucaerial_actions3_Walking_2_4.mp4\n",
            "  Peak GPU memory: 0.24 GB\n",
            "Measuring GPU memory for: ucaerial_actions3_Walking_1_7.mp4\n",
            "  Peak GPU memory: 0.24 GB\n",
            "Measuring GPU memory for: caviar_ShopAssistant1front.mp4\n",
            "  Peak GPU memory: 0.24 GB\n",
            "Measuring GPU memory for: ucaerial_actions3_Walking_2_3.mp4\n",
            "  Peak GPU memory: 0.24 GB\n",
            "Measuring GPU memory for: caviar_ThreePastShop1cor.mp4\n",
            "  Peak GPU memory: 0.24 GB\n",
            "Measuring GPU memory for: ucaerial_actions3_Walking_2_9.mp4\n",
            "  Peak GPU memory: 0.24 GB\n",
            "Measuring GPU memory for: ucaerial_actions3_Walking_1_6.mp4\n",
            "  Peak GPU memory: 0.24 GB\n",
            "Measuring GPU memory for: caviar_OneStopMoveNoEnter1cor.mp4\n",
            "  Peak GPU memory: 0.24 GB\n",
            "Measuring GPU memory for: ucaerial_actions3_Walking_2_13.mp4\n",
            "  Peak GPU memory: 0.24 GB\n",
            "Measuring GPU memory for: caviar_ShopAssistant1cor.mp4\n",
            "  Peak GPU memory: 0.24 GB\n",
            "Measuring GPU memory for: caviar_OneStopNoEnter1cor.mp4\n",
            "  Peak GPU memory: 0.24 GB\n",
            "Measuring GPU memory for: ucaerial_actions3_Walking_2_0.mp4\n",
            "  Peak GPU memory: 0.24 GB\n",
            "Measuring GPU memory for: ucaerial_actions3_Walking_2_8.mp4\n",
            "  Peak GPU memory: 0.24 GB\n",
            "Measuring GPU memory for: caviar_ThreePastShop2front.mp4\n",
            "  Peak GPU memory: 0.24 GB\n",
            "Measuring GPU memory for: caviar_OneStopMoveNoEnter2cor.mp4\n",
            "  Peak GPU memory: 0.24 GB\n",
            "Measuring GPU memory for: ucaerial_actions3_Walking_1_5.mp4\n",
            "  Peak GPU memory: 0.24 GB\n",
            "Measuring GPU memory for: caviar_ThreePastShop2cor.mp4\n",
            "  Peak GPU memory: 0.24 GB\n",
            "\n",
            "Max peak GPU memory usage across all videos: 0.24 GB\n",
            "✅ Memory requirement met.\n"
          ]
        }
      ],
      "source": [
        "def measure_gpu_memory(model, video_path, device):\n",
        "    torch.cuda.empty_cache()\n",
        "    gc.collect()\n",
        "    input_tensor = preprocess_video(video_path, device=device)\n",
        "    input_tensor = input_tensor.to(device)\n",
        "    torch.cuda.reset_peak_memory_stats(device)\n",
        "    with torch.no_grad():\n",
        "        _ = model(input_tensor)\n",
        "    peak_mem = torch.cuda.max_memory_allocated(device) / 1e9  # GB\n",
        "    return peak_mem\n",
        "\n",
        "peak_mems = []\n",
        "if torch.cuda.is_available():\n",
        "    for video_path in video_files:\n",
        "        print(f\"Measuring GPU memory for: {os.path.basename(video_path)}\")\n",
        "        peak_mem = measure_gpu_memory(model, video_path, device)\n",
        "        print(f\"  Peak GPU memory: {peak_mem:.2f} GB\")\n",
        "        peak_mems.append(peak_mem)\n",
        "    max_peak_mem = np.max(peak_mems)\n",
        "    print(f\"\\nMax peak GPU memory usage across all videos: {max_peak_mem:.2f} GB\")\n",
        "    if max_peak_mem < 4.0:\n",
        "        print('✅ Memory requirement met.')\n",
        "    else:\n",
        "        print('❌ Memory usage exceeds 4 GB!')\n",
        "else:\n",
        "    max_peak_mem = 'N/A'\n",
        "    print('GPU not available, skipping memory check.')"
      ]
    },
    {
      "cell_type": "code",
      "execution_count": null,
      "metadata": {
        "id": "DNN9VfIgGj4e"
      },
      "outputs": [],
      "source": []
    }
  ],
  "metadata": {
    "accelerator": "GPU",
    "colab": {
      "gpuType": "L4",
      "provenance": []
    },
    "kernelspec": {
      "display_name": "Python 3",
      "name": "python3"
    },
    "language_info": {
      "name": "python"
    }
  },
  "nbformat": 4,
  "nbformat_minor": 0
}
